{
  "cells": [
    {
      "cell_type": "code",
      "source": [
        "!pip install ipython"
      ],
      "metadata": {
        "id": "nJxJO0b6zZpv"
      },
      "execution_count": null,
      "outputs": []
    },
    {
      "cell_type": "code",
      "execution_count": null,
      "metadata": {
        "id": "nLBlKCPHtemk"
      },
      "outputs": [],
      "source": [
        "import os\n",
        "import json\n",
        "\n",
        "stdout_handler = StdOutCallbackHandler()"
      ]
    },
    {
      "cell_type": "code",
      "execution_count": null,
      "metadata": {
        "colab": {
          "base_uri": "https://localhost:8080/"
        },
        "id": "3lEsQtqmthJg",
        "outputId": "3db55f91-0919-405d-e837-82fcf8766a33"
      },
      "outputs": [
        {
          "output_type": "stream",
          "name": "stdout",
          "text": [
            "Drive already mounted at /content/drive/; to attempt to forcibly remount, call drive.mount(\"/content/drive/\", force_remount=True).\n"
          ]
        }
      ],
      "source": [
        "import json\n",
        "from google.colab import drive\n",
        "drive.mount('/content/drive/')\n",
        "path = '/content/drive/MyDrive/processed_qa_pairs_dataset.jsonl'\n",
        "\n",
        "splits = []\n",
        "with open(path, 'r') as reader:\n",
        "  for line in reader:\n",
        "    obj = json.loads(line)\n",
        "    splits.append(obj)\n"
      ]
    },
    {
      "cell_type": "code",
      "source": [
        "# split the train and test across all categories with a quota (10%)\n",
        "train_set = splits[0]['train']\n",
        "test_set = splits[1]['test']\n",
        "\n",
        "print(f\"Train set has size: {len(train_set)}\")\n",
        "print(f\"Test set has size: {len(test_set)}\")\n",
        "\n",
        "train_counts = {'general': 0, 'technical': 0, 'governance': 0, 'paper': 0}\n",
        "test_counts = {'general': 0, 'technical': 0, 'governance': 0, 'paper': 0}\n",
        "for datum in train_set:\n",
        "  train_counts[datum['category']] += 1\n",
        "\n",
        "for datum in test_set:\n",
        "  test_counts[datum['category']] += 1\n",
        "\n",
        "print(f\"train counts: {train_counts}\")\n",
        "print(f\"test counts: {test_counts}\")"
      ],
      "metadata": {
        "id": "ZinVmnqimwMm",
        "colab": {
          "base_uri": "https://localhost:8080/"
        },
        "outputId": "cd9876cc-0f36-4a40-f44d-81cba60ccaed"
      },
      "execution_count": null,
      "outputs": [
        {
          "output_type": "stream",
          "name": "stdout",
          "text": [
            "Train set has size: 3487\n",
            "Test set has size: 389\n",
            "train counts: {'general': 1636, 'technical': 330, 'governance': 1175, 'paper': 346}\n",
            "test counts: {'general': 182, 'technical': 37, 'governance': 131, 'paper': 39}\n"
          ]
        }
      ]
    },
    {
      "cell_type": "code",
      "source": [
        "train_path = '/content/drive/MyDrive/qa_pairs_train.jsonl'\n",
        "test_path = '/content/drive/MyDrive/qa_pairs_test.jsonl'\n",
        "\n",
        "with open(train_path, 'w') as trainf:\n",
        "  for datum in train_set:\n",
        "    json.dump(datum, trainf)\n",
        "    trainf.write('\\n')\n",
        "\n",
        "with open(test_path, 'w') as testf:\n",
        "  for datum in test_set:\n",
        "    json.dump(datum, testf)\n",
        "    testf.write('\\n')"
      ],
      "metadata": {
        "id": "VR7k6A-Rahsn"
      },
      "execution_count": null,
      "outputs": []
    },
    {
      "cell_type": "code",
      "source": [
        "from IPython.display import display\n",
        "from IPython.display import Markdown\n",
        "for datum in test_set:\n",
        "  display(Markdown(f\"# QUESTION: {datum['question']} has category {datum['category'].upper()}\"))\n",
        "  display(Markdown(f\"# ANSWER: \\n{datum['answer']}\"))"
      ],
      "metadata": {
        "id": "-hwETzvazDos"
      },
      "execution_count": null,
      "outputs": []
    }
  ],
  "metadata": {
    "colab": {
      "provenance": []
    },
    "kernelspec": {
      "display_name": "Python 3",
      "name": "python3"
    },
    "language_info": {
      "name": "python"
    }
  },
  "nbformat": 4,
  "nbformat_minor": 0
}